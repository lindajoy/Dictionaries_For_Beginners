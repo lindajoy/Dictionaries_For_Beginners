{
 "cells": [
  {
   "cell_type": "markdown",
   "metadata": {},
   "source": [
    "## A Brief Introduction to Dictionaries. \n",
    "\n",
    "Python dictionary is an unordered collection of items. While other compound data types have only value as an element, a dictionary has a key: value pair.\n",
    "\n",
    "Dictionaries are optimized to retrieve values when the key is known.\n",
    "\n",
    "A dictionary in python is a mapping object that maps keys to values, where the keys are unique within a collection and the values can hold any arbitrary value."
   ]
  },
  {
   "cell_type": "markdown",
   "metadata": {},
   "source": [
    "# Dictionary Operations\n",
    "## 1.Creation\n",
    "We initialize an empty dictionary using a pair of curly braces. This approach is often used when we expect to store some data at later stages of our operation."
   ]
  },
  {
   "cell_type": "code",
   "execution_count": 1,
   "metadata": {},
   "outputs": [],
   "source": [
    "empty_dict={}"
   ]
  },
  {
   "cell_type": "markdown",
   "metadata": {},
   "source": [
    "Dictionaries can also be created using the dict() constructor. To do this we pass the constructor a sequence of key-value pairs. We could also pass in named arguments. "
   ]
  },
  {
   "cell_type": "code",
   "execution_count": 2,
   "metadata": {},
   "outputs": [],
   "source": [
    "empty_property = dict()"
   ]
  },
  {
   "cell_type": "markdown",
   "metadata": {},
   "source": [
    "Let's create a dictionary to represent the third row of data in the song.csv file."
   ]
  },
  {
   "cell_type": "code",
   "execution_count": 3,
   "metadata": {},
   "outputs": [],
   "source": [
    "song = {\"title\":\"SOS\",\"Sang By\":\"Aloe Blacc\",\"DJ\":\"Avicii\",\"Year of release\":\"2018\",\"Album\":\"Tim\"}"
   ]
  },
  {
   "cell_type": "code",
   "execution_count": 4,
   "metadata": {},
   "outputs": [
    {
     "name": "stdout",
     "output_type": "stream",
     "text": [
      "{'title': 'SOS', 'Sang By': 'Aloe Blacc', 'DJ': 'Avicii', 'Year of release': '2018', 'Album': 'Tim'}\n"
     ]
    }
   ],
   "source": [
    "print(song)"
   ]
  },
  {
   "cell_type": "markdown",
   "metadata": {},
   "source": [
    "lets create the same song dictionary using the dict() constructor"
   ]
  },
  {
   "cell_type": "code",
   "execution_count": 5,
   "metadata": {},
   "outputs": [],
   "source": [
    "song2 = dict([\n",
    "  (\"title\",\"SOS\"),(\"SangBy\",\"Aloe Blacc\"),\n",
    "  (\"DJ\",\"Avicii\"),\n",
    "  (\"Year Of Release\",\"2018\"),\n",
    "  (\"Album\",\"Tim\")\n",
    "])\n",
    "\n"
   ]
  },
  {
   "cell_type": "code",
   "execution_count": 6,
   "metadata": {},
   "outputs": [
    {
     "name": "stdout",
     "output_type": "stream",
     "text": [
      "{'title': 'SOS', 'SangBy': 'Aloe Blacc', 'DJ': 'Avicii', 'Year Of Release': '2018', 'Album': 'Tim'}\n"
     ]
    }
   ],
   "source": [
    "print(song2)"
   ]
  },
  {
   "cell_type": "markdown",
   "metadata": {},
   "source": [
    "## 2. Accessing Items"
   ]
  },
  {
   "cell_type": "code",
   "execution_count": 7,
   "metadata": {},
   "outputs": [
    {
     "data": {
      "text/plain": [
       "True"
      ]
     },
     "execution_count": 7,
     "metadata": {},
     "output_type": "execute_result"
    }
   ],
   "source": [
    "# Check existence of title\n",
    "\"title\" in song2# returns True"
   ]
  },
  {
   "cell_type": "code",
   "execution_count": 8,
   "metadata": {},
   "outputs": [
    {
     "data": {
      "text/plain": [
       "False"
      ]
     },
     "execution_count": 8,
     "metadata": {},
     "output_type": "execute_result"
    }
   ],
   "source": [
    "\"salary\" in song2 # returns False"
   ]
  },
  {
   "cell_type": "code",
   "execution_count": 9,
   "metadata": {},
   "outputs": [
    {
     "data": {
      "text/plain": [
       "'SOS'"
      ]
     },
     "execution_count": 9,
     "metadata": {},
     "output_type": "execute_result"
    }
   ],
   "source": [
    "# Using key indexing\n",
    "song2[\"title\"] "
   ]
  },
  {
   "cell_type": "markdown",
   "metadata": {},
   "source": [
    "The good news, however, is that we have a better tool — the get() method. This method works by giving out a value if the key exists, or returning None. None sounds better than an error, right? "
   ]
  },
  {
   "cell_type": "code",
   "execution_count": 10,
   "metadata": {},
   "outputs": [
    {
     "data": {
      "text/plain": [
       "'SOS'"
      ]
     },
     "execution_count": 10,
     "metadata": {},
     "output_type": "execute_result"
    }
   ],
   "source": [
    "# Using get() method\n",
    "song2.get(\"title\") "
   ]
  },
  {
   "cell_type": "code",
   "execution_count": 11,
   "metadata": {},
   "outputs": [],
   "source": [
    "song2.get(\"Description\") # return None"
   ]
  },
  {
   "cell_type": "code",
   "execution_count": 12,
   "metadata": {},
   "outputs": [
    {
     "data": {
      "text/plain": [
       "'This is a tribute to the late Tim'"
      ]
     },
     "execution_count": 12,
     "metadata": {},
     "output_type": "execute_result"
    }
   ],
   "source": [
    "# Passing a second argument to get()\n",
    "song.get(\"Description\", \"This is a tribute to the late Tim\") # return 5000"
   ]
  },
  {
   "cell_type": "markdown",
   "metadata": {},
   "source": [
    "Here, we use get() to access the title and Description.\n",
    "\n",
    "However, song2 doesn't have a Description key so the return value is None. Adding a second argument, to get() now gives us \"This is a tribute to the late Tim\" instead of None."
   ]
  },
  {
   "cell_type": "markdown",
   "metadata": {},
   "source": [
    "## 3. Modification"
   ]
  },
  {
   "cell_type": "markdown",
   "metadata": {},
   "source": [
    "Dictionaries can be modified directly using the keys or using the update() method. update() takes in a dictionary with the key-value pairs to be modified or added."
   ]
  },
  {
   "cell_type": "markdown",
   "metadata": {},
   "source": [
    "    Add a new item  to Song2 \n",
    "    Modify the Song2_description to be \"This is a remarkable piece by tim.\"\n",
    "    Update the Year of Release  to 2019.\n",
    "    Update the dictionary to include a new item (available) with a value of True."
   ]
  },
  {
   "cell_type": "code",
   "execution_count": 13,
   "metadata": {},
   "outputs": [
    {
     "name": "stdout",
     "output_type": "stream",
     "text": [
      "{'title': 'SOS', 'SangBy': 'Aloe Blacc', 'DJ': 'Avicii', 'Year Of Release': '2018', 'Album': 'Tim', 'Ratings': 8.9}\n"
     ]
    }
   ],
   "source": [
    "# Adding a new entry for salary using the index\n",
    "song2[\"Ratings\"] = 8.9\n",
    "print(song2)"
   ]
  },
  {
   "cell_type": "code",
   "execution_count": 14,
   "metadata": {},
   "outputs": [
    {
     "name": "stdout",
     "output_type": "stream",
     "text": [
      "{'title': 'SOS', 'SangBy': 'Aloe Blacc', 'DJ': 'Avicii', 'Year Of Release': '2018', 'Album': 'Tim', 'Ratings': 8.9, 'Description': 'This is a remarkable piece by tim.'}\n"
     ]
    }
   ],
   "source": [
    "song2[\"Description\"] = \"This is a remarkable piece by tim.\"\n",
    "print(song2)"
   ]
  },
  {
   "cell_type": "code",
   "execution_count": 15,
   "metadata": {},
   "outputs": [
    {
     "name": "stdout",
     "output_type": "stream",
     "text": [
      "{'title': 'SOS', 'SangBy': 'Aloe Blacc', 'DJ': 'Avicii', 'Year Of Release': '2018', 'Album': 'Tim', 'Ratings': 9.1, 'Description': 'This is a remarkable piece by tim.'}\n"
     ]
    }
   ],
   "source": [
    "# Modifying the salary entry using update\n",
    "song2.update({\"Ratings\":9.1})\n",
    "print(song2)"
   ]
  },
  {
   "cell_type": "code",
   "execution_count": 16,
   "metadata": {},
   "outputs": [
    {
     "name": "stdout",
     "output_type": "stream",
     "text": [
      "{'title': 'SOS', 'SangBy': 'Aloe Blacc', 'DJ': 'Avicii', 'Year Of Release': '2018', 'Album': 'Tim', 'Ratings': 9.1, 'Description': 'This is a remarkable piece by tim.', 'available': True}\n"
     ]
    }
   ],
   "source": [
    "# Adding the available entry using update\n",
    "song2.update({\"available\":True})\n",
    "print(song2)"
   ]
  },
  {
   "cell_type": "markdown",
   "metadata": {},
   "source": [
    "A particularly nice use case for update() is when we need to merge two dictionaries. Say we have another dictionary extra_info containing extra fields for a song, and we would like to merge this with song2."
   ]
  },
  {
   "cell_type": "code",
   "execution_count": 17,
   "metadata": {},
   "outputs": [],
   "source": [
    "extra_info = {\n",
    "  \"verified\":True,\n",
    "  \"HoursOfCompletion\":\"3 hours\",\n",
    "  \"Price\":\"$4000\"}\n",
    "\n",
    "# Merge extra_info with job2\n",
    "song2.update(extra_info)"
   ]
  },
  {
   "cell_type": "code",
   "execution_count": 18,
   "metadata": {},
   "outputs": [
    {
     "name": "stdout",
     "output_type": "stream",
     "text": [
      "{'title': 'SOS', 'SangBy': 'Aloe Blacc', 'DJ': 'Avicii', 'Year Of Release': '2018', 'Album': 'Tim', 'Ratings': 9.1, 'Description': 'This is a remarkable piece by tim.', 'available': True, 'verified': True, 'HoursOfCompletion': '3 hours', 'Price': '$4000'}\n"
     ]
    }
   ],
   "source": [
    "print (song2)"
   ]
  },
  {
   "cell_type": "markdown",
   "metadata": {},
   "source": [
    "## 4. Deletion"
   ]
  },
  {
   "cell_type": "code",
   "execution_count": 19,
   "metadata": {},
   "outputs": [
    {
     "name": "stdout",
     "output_type": "stream",
     "text": [
      "{'title': 'SOS', 'SangBy': 'Aloe Blacc', 'DJ': 'Avicii', 'Year Of Release': '2018', 'Album': 'Tim', 'Ratings': 9.1, 'Description': 'This is a remarkable piece by tim.', 'HoursOfCompletion': '3 hours', 'Price': '$4000'}\n"
     ]
    }
   ],
   "source": [
    "del song2[\"verified\"]\n",
    "del song2[\"available\"]\n",
    "print(song2) #return a dictionary without 'salary' and 'available' entries"
   ]
  },
  {
   "cell_type": "code",
   "execution_count": 20,
   "metadata": {},
   "outputs": [
    {
     "name": "stdout",
     "output_type": "stream",
     "text": [
      "{}\n"
     ]
    }
   ],
   "source": [
    "song.clear()\n",
    "print(song) #return an empty dictionary"
   ]
  },
  {
   "cell_type": "code",
   "execution_count": 21,
   "metadata": {},
   "outputs": [],
   "source": [
    "del song\n"
   ]
  },
  {
   "cell_type": "markdown",
   "metadata": {},
   "source": [
    "## 6. Iteration\n",
    "    dict.values() - this returns an iterable of the dictionary's values.\n",
    "    dict.keys() - this returns an iterable of the dictionary's keys.\n",
    "    dict.items() - this returns an iterable of the dictionary's (key,value) pairs."
   ]
  },
  {
   "cell_type": "code",
   "execution_count": 22,
   "metadata": {},
   "outputs": [
    {
     "name": "stdout",
     "output_type": "stream",
     "text": [
      "title\n",
      "SangBy\n",
      "DJ\n",
      "Year Of Release\n",
      "Album\n",
      "Ratings\n",
      "Description\n",
      "HoursOfCompletion\n",
      "Price\n"
     ]
    }
   ],
   "source": [
    "# Iterating through the dictionary itself\n",
    "for x in song2:\n",
    "    print(x) # prints the keys of jsong2"
   ]
  },
  {
   "cell_type": "code",
   "execution_count": 23,
   "metadata": {},
   "outputs": [
    {
     "name": "stdout",
     "output_type": "stream",
     "text": [
      "title\n",
      "SangBy\n",
      "DJ\n",
      "Year Of Release\n",
      "Album\n",
      "Ratings\n",
      "Description\n",
      "HoursOfCompletion\n",
      "Price\n"
     ]
    }
   ],
   "source": [
    "# Using keys()\n",
    "for key in song2.keys():\n",
    "        print(key) \n",
    "   "
   ]
  },
  {
   "cell_type": "code",
   "execution_count": 24,
   "metadata": {},
   "outputs": [
    {
     "name": "stdout",
     "output_type": "stream",
     "text": [
      "SOS\n",
      "Aloe Blacc\n",
      "Avicii\n",
      "2018\n",
      "Tim\n",
      "9.1\n",
      "This is a remarkable piece by tim.\n",
      "3 hours\n",
      "$4000\n"
     ]
    }
   ],
   "source": [
    "# Using values()\n",
    "for val in song2.values():\n",
    "    print(val) # prints the values of job\n",
    "    "
   ]
  },
  {
   "cell_type": "markdown",
   "metadata": {},
   "source": [
    "   ## Mapping in dictionaries\n",
    "   "
   ]
  },
  {
   "cell_type": "markdown",
   "metadata": {},
   "source": [
    "Dictionaries are useful anytime we need to associate a set of values\n",
    "with keys—to describe the properties of something, for instance. As an example, con-\n",
    "sider the following three-item dictionary (with keys “food,” “price,” and “quantity,”\n",
    "perhaps the details of a hypothetical menu item?):"
   ]
  },
  {
   "cell_type": "code",
   "execution_count": 25,
   "metadata": {},
   "outputs": [],
   "source": [
    "menu={'food': 'Chicken', 'price': 40000, 'quantity': 5}"
   ]
  },
  {
   "cell_type": "markdown",
   "metadata": {},
   "source": [
    "We can index this dictionary by key to fetch and change the keys’ associated values.\n",
    "The dictionary index operation uses the same syntax as that used for sequences, but\n",
    "the item in the square brackets is a key, not a relative position:"
   ]
  },
  {
   "cell_type": "code",
   "execution_count": 26,
   "metadata": {},
   "outputs": [
    {
     "name": "stdout",
     "output_type": "stream",
     "text": [
      "Chicken\n"
     ]
    }
   ],
   "source": [
    "print(menu['food'])"
   ]
  },
  {
   "cell_type": "code",
   "execution_count": 27,
   "metadata": {},
   "outputs": [],
   "source": [
    "menu['quantity'] += 1"
   ]
  },
  {
   "cell_type": "code",
   "execution_count": null,
   "metadata": {},
   "outputs": [],
   "source": [
    "print(menu)"
   ]
  },
  {
   "cell_type": "markdown",
   "metadata": {},
   "source": [
    "### Nesting In Dictionaries."
   ]
  },
  {
   "cell_type": "code",
   "execution_count": 37,
   "metadata": {},
   "outputs": [],
   "source": [
    "rec = {'name': {'first': 'Bob', 'last': 'Smith'},\n",
    "       'jobs': ['dev', 'mgr'],\n",
    "       'age': 40.5}"
   ]
  },
  {
   "cell_type": "code",
   "execution_count": 38,
   "metadata": {},
   "outputs": [
    {
     "data": {
      "text/plain": [
       "{'first': 'Bob', 'last': 'Smith'}"
      ]
     },
     "execution_count": 38,
     "metadata": {},
     "output_type": "execute_result"
    }
   ],
   "source": [
    "rec['name']"
   ]
  },
  {
   "cell_type": "code",
   "execution_count": 39,
   "metadata": {},
   "outputs": [
    {
     "data": {
      "text/plain": [
       "'Smith'"
      ]
     },
     "execution_count": 39,
     "metadata": {},
     "output_type": "execute_result"
    }
   ],
   "source": [
    "rec['name']['last']"
   ]
  },
  {
   "cell_type": "code",
   "execution_count": 40,
   "metadata": {},
   "outputs": [
    {
     "data": {
      "text/plain": [
       "['dev', 'mgr']"
      ]
     },
     "execution_count": 40,
     "metadata": {},
     "output_type": "execute_result"
    }
   ],
   "source": [
    "rec['jobs']"
   ]
  },
  {
   "cell_type": "code",
   "execution_count": 41,
   "metadata": {},
   "outputs": [
    {
     "data": {
      "text/plain": [
       "'mgr'"
      ]
     },
     "execution_count": 41,
     "metadata": {},
     "output_type": "execute_result"
    }
   ],
   "source": [
    "rec['jobs'][-1]"
   ]
  },
  {
   "cell_type": "code",
   "execution_count": null,
   "metadata": {},
   "outputs": [],
   "source": [
    "rec['jobs'].append('janitor')"
   ]
  },
  {
   "cell_type": "code",
   "execution_count": null,
   "metadata": {},
   "outputs": [],
   "source": [
    "print(rec)"
   ]
  },
  {
   "cell_type": "markdown",
   "metadata": {},
   "source": [
    "For more information,Read more in the book :*Learning Python, 5th Edition.pdf*"
   ]
  },
  {
   "cell_type": "markdown",
   "metadata": {},
   "source": [
    "### Other Short notes on Dictionaries\n",
    "#### How to convert two lists into dictionaries"
   ]
  },
  {
   "cell_type": "code",
   "execution_count": 29,
   "metadata": {},
   "outputs": [],
   "source": [
    "People = ['Megan',\"Lloyd\",\"Freeman\",\"Delilah\"]\n",
    "Age= [34,32,41,89]"
   ]
  },
  {
   "cell_type": "code",
   "execution_count": 30,
   "metadata": {},
   "outputs": [
    {
     "name": "stdout",
     "output_type": "stream",
     "text": [
      "{'Megan': 34, 'Lloyd': 32, 'Freeman': 41, 'Delilah': 89}\n"
     ]
    }
   ],
   "source": [
    "dictionary = dict(zip(People, Age))\n",
    "print(dictionary)"
   ]
  },
  {
   "cell_type": "markdown",
   "metadata": {},
   "source": [
    " The zip() function take iterables (can be zero or more), makes iterator that aggregates elements based on the iterables    passed, and returns an iterator of tuples. \n",
    " The syntax of zip() is:zip(*iterables)\n",
    " \n",
    " For more information,Click on the following link:https://www.programiz.com/python-programming/methods/built-in/zip"
   ]
  },
  {
   "cell_type": "markdown",
   "metadata": {},
   "source": [
    "#### Sorting keys in dictionaries"
   ]
  },
  {
   "cell_type": "code",
   "execution_count": 31,
   "metadata": {},
   "outputs": [
    {
     "name": "stdout",
     "output_type": "stream",
     "text": [
      "{'a': 1, 'b': 2, 'c': 3}\n"
     ]
    }
   ],
   "source": [
    "D = {'a': 1, 'b': 2, 'c': 3}\n",
    "print(D)"
   ]
  },
  {
   "cell_type": "markdown",
   "metadata": {},
   "source": [
    "What do we do, though, if we do need to impose an ordering on a dictionary’s items?\n",
    "One common solution is to grab a list of keys with the dictionary keys method, sort\n",
    "that with the list sort method, and then step through the result with a Python for loop"
   ]
  },
  {
   "cell_type": "code",
   "execution_count": 32,
   "metadata": {},
   "outputs": [
    {
     "name": "stdout",
     "output_type": "stream",
     "text": [
      "['a', 'b', 'c']\n"
     ]
    }
   ],
   "source": [
    "Ks = list(D.keys())\n",
    "print(Ks)"
   ]
  },
  {
   "cell_type": "code",
   "execution_count": 33,
   "metadata": {},
   "outputs": [
    {
     "name": "stdout",
     "output_type": "stream",
     "text": [
      "['a', 'b', 'c']\n"
     ]
    }
   ],
   "source": [
    "Ks.sort()\n",
    "print(Ks)"
   ]
  },
  {
   "cell_type": "code",
   "execution_count": 34,
   "metadata": {},
   "outputs": [
    {
     "name": "stdout",
     "output_type": "stream",
     "text": [
      "a => 1\n",
      "b => 2\n",
      "c => 3\n"
     ]
    }
   ],
   "source": [
    "for key in Ks:\n",
    "     print(key, '=>', D[key])"
   ]
  },
  {
   "cell_type": "code",
   "execution_count": null,
   "metadata": {},
   "outputs": [],
   "source": []
  }
 ],
 "metadata": {
  "kernelspec": {
   "display_name": "Python 3",
   "language": "python",
   "name": "python3"
  },
  "language_info": {
   "codemirror_mode": {
    "name": "ipython",
    "version": 3
   },
   "file_extension": ".py",
   "mimetype": "text/x-python",
   "name": "python",
   "nbconvert_exporter": "python",
   "pygments_lexer": "ipython3",
   "version": "3.7.1"
  }
 },
 "nbformat": 4,
 "nbformat_minor": 2
}
